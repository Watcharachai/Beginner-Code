{
  "nbformat": 4,
  "nbformat_minor": 0,
  "metadata": {
    "kernelspec": {
      "display_name": "Python 3",
      "language": "python",
      "name": "python3"
    },
    "language_info": {
      "codemirror_mode": {
        "name": "ipython",
        "version": 3
      },
      "file_extension": ".py",
      "mimetype": "text/x-python",
      "name": "python",
      "nbconvert_exporter": "python",
      "pygments_lexer": "ipython3",
      "version": "3.7.7"
    },
    "colab": {
      "name": "Full Al.ipynb",
      "provenance": [],
      "include_colab_link": true
    }
  },
  "cells": [
    {
      "cell_type": "markdown",
      "metadata": {
        "id": "view-in-github",
        "colab_type": "text"
      },
      "source": [
        "<a href=\"https://colab.research.google.com/github/Watcharachai/Beginner-Code/blob/master/Full_Al_Line_Notice.ipynb\" target=\"_parent\"><img src=\"https://colab.research.google.com/assets/colab-badge.svg\" alt=\"Open In Colab\"/></a>"
      ]
    },
    {
      "cell_type": "markdown",
      "metadata": {
        "id": "DybxhttnikgZ"
      },
      "source": [
        "# Import Packages and Produce Functions"
      ]
    },
    {
      "cell_type": "code",
      "metadata": {
        "id": "AQEnvFVAikga"
      },
      "source": [
        "import pandas as pd\n",
        "import time\n",
        "import requests\n",
        "import numpy as np\n",
        "import schedule\n",
        "import pip\n",
        "import stop_words\n",
        "import pythainlp\n",
        "from pythainlp import word_tokenize\n",
        "#from pythainlp.corpus import stopwords\n",
        "from pythainlp.corpus import wordnet\n",
        "from nltk.stem.porter import PorterStemmer\n",
        "from nltk.corpus import words\n",
        "from stop_words import get_stop_words\n",
        "import tweepy\n",
        "import random\n",
        "import re\n",
        "import string\n",
        "import stop_words\n",
        "import nltk\n",
        "from pythainlp.corpus import thai_stopwords"
      ],
      "execution_count": null,
      "outputs": []
    },
    {
      "cell_type": "code",
      "metadata": {
        "id": "XrK5Q0isikge"
      },
      "source": [
        "import datetime\n",
        "from datetime import date"
      ],
      "execution_count": null,
      "outputs": []
    },
    {
      "cell_type": "markdown",
      "metadata": {
        "id": "wflC23JIikgh"
      },
      "source": [
        "# Pull Current Data"
      ]
    },
    {
      "cell_type": "code",
      "metadata": {
        "id": "2-b9-vLFikgi"
      },
      "source": [
        "#Define important words\n",
        "bag_words = ['อุบัติเหตุ','ซ่อม','ฝนตก','วิภาวดี','แคราย','สะพานพระนั่งเกล้า','รัตนาธิเบศ','พงษ์เพชร','แยกเกษตร','งามวงศ์วาน','บางเขน']\n",
        "#Binary class of trafic condition\n",
        "condition = ('good', 'bad') #labels\n",
        "#Negatively important words\n",
        "neg_word = ['อุบัติเหตุ','ซ่อม','ฝนตก','จอดเสีย','รถชน','เคลื่อนย้าย','ติดขัด','สะสม','มาก','ท้ายแถว']\n",
        "place_word = ['วิภาวดี',\n",
        " 'แคราย',\n",
        " 'สะพานพระนั่งเกล้า',\n",
        " 'รัตนาธิเบศ',\n",
        " 'พงษ์เพชร',\n",
        " 'เกษตร',\n",
        " 'งามวงศ์วาน',\n",
        " 'บางเขน']\n",
        "place_word_ref = place_word"
      ],
      "execution_count": null,
      "outputs": []
    },
    {
      "cell_type": "code",
      "metadata": {
        "id": "g6iOmtBCikgk"
      },
      "source": [
        "consumer_key = \"sOnn3bjnHhG6zKKzqbZpW6Ccs\"\n",
        "consumer_secret = \"f5TO0onnROxiE04QbLdyXMBAt2YCc8LIMmtqQTbGQk3yuCYUDk\"\n",
        "access_token = \"1320225693939101696-zko7CVgLHvLMFVpzW4wWsJKnIITtss\"\n",
        "access_token_secret = \"OYAfv4Zz0vEjpAyfIs5PMlkUTB6X4l2TZGb6c87LWGmWM\"\n",
        "#I suggest to regen keys and tokens everytime coding\n",
        "\n",
        "auth = tweepy.OAuthHandler(consumer_key, consumer_secret)\n",
        "auth.set_access_token(access_token, access_token_secret)\n",
        "api = tweepy.API(auth,wait_on_rate_limit=True)\n",
        "api = tweepy.API(auth)\n",
        "\n",
        "a = api.get_status(912886007451676672, tweet_mode='extended')"
      ],
      "execution_count": null,
      "outputs": []
    },
    {
      "cell_type": "markdown",
      "metadata": {
        "id": "T18qx7iUikgn"
      },
      "source": [
        "scrape data from #query"
      ]
    },
    {
      "cell_type": "code",
      "metadata": {
        "id": "bJoHDGfsikgn"
      },
      "source": [
        "#Create random to def\n",
        "def sampling_func(items,k):\n",
        "    #create random samples for printing news (consequence)\n",
        "    sampling_neg = random.sample(items, k)\n",
        "    #create random samples for printing news (place)\n",
        "    sampling_place = random.sample(place_word_ref,k=1)\n",
        "    #concat neg & place\n",
        "    sampling_neg.extend(sampling_place)\n",
        "    sampling_neg.append('#รถติด') #necessary to add a vital keyword\n",
        "    return sampling_neg"
      ],
      "execution_count": null,
      "outputs": []
    },
    {
      "cell_type": "code",
      "metadata": {
        "id": "WifnRChbikgq"
      },
      "source": [
        "sampling=sampling_func(neg_word,1)"
      ],
      "execution_count": null,
      "outputs": []
    },
    {
      "cell_type": "code",
      "metadata": {
        "id": "cpUoOyWJikgt"
      },
      "source": [
        "#scrape data from twitter query\n",
        "query = sampling_func(neg_word,1)\n",
        "count = 100\n",
        "try:\n",
        "    tweets_q =tweepy.Cursor(api.search, q= query,full_text = True,result_type = 'recent'\n",
        "    ,until_date = date.today()).items(count)\n",
        "    tweets_list_q = [[obj.created_at, obj.id, obj.text] for obj in tweets_q]\n",
        "    tweets_df_q = pd.DataFrame(tweets_list_q,columns=('date_time','id', 'tweet'))\n",
        "    while True:\n",
        "        if len(tweets_df_q.tweet) == 0:\n",
        "            query = sampling_func(neg_word,1)\n",
        "            tweets_q =tweepy.Cursor(api.search, q= query,full_text = True,result_type = 'recent'\n",
        "            ,until_date = date.today()).items(count)\n",
        "            tweets_list_q = [[obj.created_at, obj.id, obj.text] for obj in tweets_q]\n",
        "            tweets_df_q = pd.DataFrame(tweets_list_q,columns=('date_time','id', 'tweet'))\n",
        "        else:\n",
        "            break\n",
        "except BaseException as e:\n",
        "    print('failed on_status,',str(e))\n",
        "    time.sleep(3)"
      ],
      "execution_count": null,
      "outputs": []
    },
    {
      "cell_type": "code",
      "metadata": {
        "scrolled": true,
        "id": "gpjtji-Bikgw"
      },
      "source": [
        "tweets_df_q = tweets_df_q.drop(['date_time','id'],axis=1)\n",
        "#tweets_df_q=tweets_df_q[tweets_df_q['tweet'].str.contains(\"Trump\")] #Change Everytime!!!"
      ],
      "execution_count": null,
      "outputs": []
    },
    {
      "cell_type": "code",
      "metadata": {
        "id": "1y9DAZG6ikgy"
      },
      "source": [
        "tweets_df_q.drop_duplicates(keep=\"first\", inplace=True) #Drop duplicated items"
      ],
      "execution_count": null,
      "outputs": []
    },
    {
      "cell_type": "markdown",
      "metadata": {
        "id": "LE71oGfJikg0"
      },
      "source": [
        "# Pre processing Data"
      ]
    },
    {
      "cell_type": "code",
      "metadata": {
        "id": "Hz64hGAXikg1"
      },
      "source": [
        "def clean_msg(msg): #Clear all signs\n",
        "    \n",
        "    # delete text in <>\n",
        "    msg = re.sub(r'<.*?>','', msg)\n",
        "    \n",
        "    # delete hashtag\n",
        "    msg = re.sub(r'#','',msg)\n",
        "    \n",
        "    # delete punctuation\n",
        "    for c in string.punctuation:\n",
        "        msg = re.sub(r'\\{}'.format(c),'',msg)\n",
        "    \n",
        "    # delete separator i.e. \\n \\t\n",
        "    msg = ' '.join(msg.split())\n",
        "    \n",
        "    return msg"
      ],
      "execution_count": null,
      "outputs": []
    },
    {
      "cell_type": "code",
      "metadata": {
        "id": "pEnVKiolikg3",
        "outputId": "c042231b-603c-47f2-c4db-bc722c610095"
      },
      "source": [
        "nltk.download('words') #pull thai word(Bags)\n",
        "th_stop = tuple(thai_stopwords())\n",
        "en_stop = tuple(get_stop_words('en'))\n",
        "p_stemmer = PorterStemmer()"
      ],
      "execution_count": null,
      "outputs": [
        {
          "output_type": "stream",
          "text": [
            "[nltk_data] Downloading package words to /Users/rodtour/nltk_data...\n",
            "[nltk_data]   Package words is already up-to-date!\n"
          ],
          "name": "stderr"
        }
      ]
    },
    {
      "cell_type": "code",
      "metadata": {
        "id": "CQfOze8aikg6"
      },
      "source": [
        "def split_word(text):       \n",
        "    \n",
        "    tokens = word_tokenize(text,engine='newmm')\n",
        "    \n",
        "    # Remove stop words\n",
        "    tokens = [i for i in tokens if not i in th_stop and not i in en_stop]\n",
        "    \n",
        "    # หารากศัพท์ภาษาไทย และภาษาอังกฤษ\n",
        "    # English\n",
        "    tokens = [p_stemmer.stem(i) for i in tokens]\n",
        "    \n",
        "    # Thai\n",
        "    tokens_temp=[]\n",
        "    for i in tokens:\n",
        "        w_syn = wordnet.synsets(i)\n",
        "        if (len(w_syn)>0) and (len(w_syn[0].lemma_names('tha'))>0):\n",
        "            tokens_temp.append(w_syn[0].lemma_names('tha')[0])\n",
        "        else:\n",
        "            tokens_temp.append(i)\n",
        "    \n",
        "    tokens = tokens_temp\n",
        "    # ลบตัวเลข\n",
        "    tokens = [i for i in tokens if not i.isnumeric()]\n",
        "    # ลบช่องว่าง\n",
        "    tokens = [i for i in tokens if not ' ' in i]\n",
        "    return tokens"
      ],
      "execution_count": null,
      "outputs": []
    },
    {
      "cell_type": "markdown",
      "metadata": {
        "id": "J_tB8TaHikg9"
      },
      "source": [
        "# Choose only one"
      ]
    },
    {
      "cell_type": "code",
      "metadata": {
        "id": "GsdIXbTvikg9"
      },
      "source": [
        "#Set New dataframe by user\n",
        "df = tweets_df"
      ],
      "execution_count": null,
      "outputs": []
    },
    {
      "cell_type": "code",
      "metadata": {
        "id": "IIAuY38MikhB"
      },
      "source": [
        "#Set New dataframe by query\n",
        "df = tweets_df_q"
      ],
      "execution_count": null,
      "outputs": []
    },
    {
      "cell_type": "code",
      "metadata": {
        "id": "Y-Ia5vVgikhH"
      },
      "source": [
        "list_clean_df = [clean_msg(i) for i in df.tweet] #clean msg\n",
        "list_token_df = [split_word(text) for text in list_clean_df] #split words"
      ],
      "execution_count": null,
      "outputs": []
    },
    {
      "cell_type": "code",
      "metadata": {
        "id": "GhjAFh-CikhJ"
      },
      "source": [
        "#Add token to df\n",
        "df['token'] = list_token_df"
      ],
      "execution_count": null,
      "outputs": []
    },
    {
      "cell_type": "code",
      "metadata": {
        "id": "To7Ddw-hikhL",
        "outputId": "0de20935-6963-475e-89f5-30e7384b20b4"
      },
      "source": [
        "label_total = []\n",
        "for i in range(len(df.token)):\n",
        "    label = [txt for txt in df.token.iloc[i] if txt in neg_word]\n",
        "    label = list(set(label))\n",
        "    label_total.append(label)\n",
        "    print(i)\n",
        "    print(label)"
      ],
      "execution_count": null,
      "outputs": [
        {
          "output_type": "stream",
          "text": [
            "0\n",
            "['อุบัติเหตุ', 'รถชน']\n",
            "1\n",
            "['อุบัติเหตุ', 'รถชน']\n"
          ],
          "name": "stdout"
        }
      ]
    },
    {
      "cell_type": "code",
      "metadata": {
        "id": "TOHguKloikhO",
        "outputId": "71de9c38-84b6-46a1-fb8f-daf85dec16df"
      },
      "source": [
        "place_total = []\n",
        "for i in range(len(df.token)):\n",
        "    place = [txt for txt in df.token.iloc[i] if txt in place_word]\n",
        "    place = list(set(place))\n",
        "    place_total.append(place)\n",
        "    print(place)\n",
        "    print(place)\n",
        "    \n",
        "#Not accurate as the split word is not perfect\n",
        "#Intial solution ==>> Add more place_word\n",
        "\n",
        "place_word.extend(['รัตนา','เพชร','เกล้า','เขน', 'บาง', 'วัฒนะ','แค','ราย', 'งาม', 'วาน'])\n",
        "#concat full word\n",
        "for aa in place_total:\n",
        "    for i in range(len(aa)):\n",
        "        if aa[i] == 'เขน'or aa[i] == 'บาง':\n",
        "             aa[i] = 'บางเขน'\n",
        "        elif aa[i] == 'แค'or aa[i]=='ราย':\n",
        "            aa[i]='แคราย'\n",
        "        elif aa[i]=='เกล้า':\n",
        "            aa[i]='สะพานพระนั่งเกล้า'\n",
        "        elif aa[i]=='รัตนา'or aa[i]=='ธิเบศ':\n",
        "            aa[i]= 'รัตนาธิเบศ'\n",
        "        elif aa[i]=='พงศ์'or aa[i]=='เพชร':\n",
        "            aa[i]='พงศ์เพชร'\n",
        "        elif aa[i]=='งาม'or aa[i]=='วงศ์'or aa[i]=='วาน':\n",
        "            aa[i]='งามวงศ์วาน'\n",
        "        elif aa[i]==\"แจ้ง\" or aa[i]=='วัฒนะ':\n",
        "            aa[i]='แจ้งวัฒนะ'\n",
        "        else:\n",
        "            pass"
      ],
      "execution_count": null,
      "outputs": [
        {
          "output_type": "stream",
          "text": [
            "['เกษตร']\n",
            "['เกษตร']\n",
            "['เกษตร']\n",
            "['เกษตร']\n"
          ],
          "name": "stdout"
        }
      ]
    },
    {
      "cell_type": "code",
      "metadata": {
        "id": "oGdC6eWAikhQ"
      },
      "source": [
        "df['condition'] = label_total #gern condition to df\n",
        "df['place'] = place_total #gern place to df"
      ],
      "execution_count": null,
      "outputs": []
    },
    {
      "cell_type": "code",
      "metadata": {
        "id": "PBPvPFaBikhS",
        "outputId": "595bbea4-b05b-443e-f1c0-77132124dd2b"
      },
      "source": [
        "df"
      ],
      "execution_count": null,
      "outputs": [
        {
          "output_type": "execute_result",
          "data": {
            "text/html": [
              "<div>\n",
              "<style scoped>\n",
              "    .dataframe tbody tr th:only-of-type {\n",
              "        vertical-align: middle;\n",
              "    }\n",
              "\n",
              "    .dataframe tbody tr th {\n",
              "        vertical-align: top;\n",
              "    }\n",
              "\n",
              "    .dataframe thead th {\n",
              "        text-align: right;\n",
              "    }\n",
              "</style>\n",
              "<table border=\"1\" class=\"dataframe\">\n",
              "  <thead>\n",
              "    <tr style=\"text-align: right;\">\n",
              "      <th></th>\n",
              "      <th>tweet</th>\n",
              "      <th>token</th>\n",
              "      <th>condition</th>\n",
              "      <th>place</th>\n",
              "    </tr>\n",
              "  </thead>\n",
              "  <tbody>\n",
              "    <tr>\n",
              "      <th>0</th>\n",
              "      <td>RT @js100radio: 14:28 #อุบัติเหตุ #ถนนลาดปลาเค...</td>\n",
              "      <td>[RT, js, radio, อุบัติเหตุ, ถ., ลาด, ปลา, เค้า...</td>\n",
              "      <td>[อุบัติเหตุ, รถชน]</td>\n",
              "      <td>[เกษตร]</td>\n",
              "    </tr>\n",
              "    <tr>\n",
              "      <th>4</th>\n",
              "      <td>14:28 #อุบัติเหตุ #ถนนลาดปลาเค้า ช่วง ถ.เกษตรน...</td>\n",
              "      <td>[อุบัติเหตุ, ถ., ลาด, ปลา, เค้า, ถ, เกษตร, นวม...</td>\n",
              "      <td>[อุบัติเหตุ, รถชน]</td>\n",
              "      <td>[เกษตร]</td>\n",
              "    </tr>\n",
              "  </tbody>\n",
              "</table>\n",
              "</div>"
            ],
            "text/plain": [
              "                                               tweet  \\\n",
              "0  RT @js100radio: 14:28 #อุบัติเหตุ #ถนนลาดปลาเค...   \n",
              "4  14:28 #อุบัติเหตุ #ถนนลาดปลาเค้า ช่วง ถ.เกษตรน...   \n",
              "\n",
              "                                               token           condition  \\\n",
              "0  [RT, js, radio, อุบัติเหตุ, ถ., ลาด, ปลา, เค้า...  [อุบัติเหตุ, รถชน]   \n",
              "4  [อุบัติเหตุ, ถ., ลาด, ปลา, เค้า, ถ, เกษตร, นวม...  [อุบัติเหตุ, รถชน]   \n",
              "\n",
              "     place  \n",
              "0  [เกษตร]  \n",
              "4  [เกษตร]  "
            ]
          },
          "metadata": {
            "tags": []
          },
          "execution_count": 23
        }
      ]
    },
    {
      "cell_type": "markdown",
      "metadata": {
        "id": "_6CoBKPSikhV"
      },
      "source": [
        "# Notify"
      ]
    },
    {
      "cell_type": "code",
      "metadata": {
        "id": "IX4e6swuikhV"
      },
      "source": [
        "def Lineconfig(command):\n",
        "\turl = 'https://notify-api.line.me/api/notify'\n",
        "\ttoken = 'tUSCy31qagrhdtM5SsNUf5U8s4glqLEo21dELnG2D1n' ## EDIT\n",
        "\theader = {'content-type':'application/x-www-form-urlencoded','Authorization':'Bearer '+token}\n",
        "\treturn requests.post(url, headers=header, data = command)\n",
        "\n",
        "def sendtext(message):\n",
        "\t# send plain text to line\n",
        "\tcommand = {'message':message}\n",
        "\treturn Lineconfig(command)\n",
        "\n",
        "def sendcon(condition):\n",
        "\t# send condition\n",
        "\tcommand = {'message':condition}\n",
        "\treturn Lineconfig(command)\n",
        "\n",
        "def sendplace(place):\n",
        "\t# send place\n",
        "\tcommand = {'message':place}\n",
        "\treturn Lineconfig(command)\n",
        "\n",
        "def sendnews(news):\n",
        "\t# send news\n",
        "\tcommand = {'message':news}\n",
        "\treturn Lineconfig(command)\n"
      ],
      "execution_count": null,
      "outputs": []
    },
    {
      "cell_type": "code",
      "metadata": {
        "id": "T0v2xY-VikhY"
      },
      "source": [
        "#define time\n",
        "i = date.today().weekday()\n",
        "if i == 1:\n",
        "    time = 74\n",
        "elif i == 2:\n",
        "    time = 69\n",
        "elif i == 3:\n",
        "    time = 59\n",
        "elif i == 4:\n",
        "    time = 57\n",
        "elif i == 5:\n",
        "    time = 54\n",
        "else:\n",
        "    time=\"Weekend\""
      ],
      "execution_count": null,
      "outputs": []
    },
    {
      "cell_type": "code",
      "metadata": {
        "id": "goj05VREikha"
      },
      "source": [
        "#Execute program\n",
        "def execute_notice(time,condition, place):\n",
        "    sendtext(\"Good Morning\")\n",
        "    sendtext(\"ใช้ระยะเวลาเดินทางทั้งหมด {} นาที\".format(time))\n",
        "    sendcon(\"มีปัญหาเกิดจาก {}\".format(condition))\n",
        "    sendplace(\"โปรดหลีกเลี้ยงเส้นทาง {}\".format(place))\n",
        "    \n",
        "def execute_news(news):\n",
        "    sendnews(\"สำหรับข่าวเพิ่มเติม {}\".format(news))"
      ],
      "execution_count": null,
      "outputs": []
    },
    {
      "cell_type": "code",
      "metadata": {
        "id": "Dv-Q3AN6ikhc"
      },
      "source": [
        "execute_notice(59,df.condition.iloc[0],df.place.iloc[0])\n",
        "\n",
        "for i in range(0,2): # 2 latest news\n",
        "    execute_news(news=df.tweet.iloc[i])"
      ],
      "execution_count": null,
      "outputs": []
    }
  ]
}